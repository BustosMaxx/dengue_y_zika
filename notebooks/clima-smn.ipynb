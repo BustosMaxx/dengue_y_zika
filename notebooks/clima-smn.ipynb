{
 "cells": [
  {
   "cell_type": "markdown",
   "id": "29e37abc-1db3-40bd-a4ca-60faae50e577",
   "metadata": {},
   "source": [
    "# Clima"
   ]
  },
  {
   "cell_type": "markdown",
   "id": "2bb04726-394e-4b8b-ab46-198f9a2f2962",
   "metadata": {
    "tags": []
   },
   "source": [
    "## Estadisticas climaticas 1991 - 2020"
   ]
  },
  {
   "cell_type": "code",
   "execution_count": null,
   "id": "8fbb2b75-4a44-4eaa-b18e-c3ddc42af2d1",
   "metadata": {},
   "outputs": [],
   "source": []
  },
  {
   "cell_type": "markdown",
   "id": "7ced1495-3975-4cd4-b4a4-f2acd924ab90",
   "metadata": {},
   "source": [
    "## Ultimo año"
   ]
  },
  {
   "cell_type": "code",
   "execution_count": null,
   "id": "cae6a191-8a13-4e3f-accf-48d2fb54fe13",
   "metadata": {},
   "outputs": [],
   "source": []
  }
 ],
 "metadata": {
  "kernelspec": {
   "display_name": "Python 3 (ipykernel)",
   "language": "python",
   "name": "python3"
  },
  "language_info": {
   "codemirror_mode": {
    "name": "ipython",
    "version": 3
   },
   "file_extension": ".py",
   "mimetype": "text/x-python",
   "name": "python",
   "nbconvert_exporter": "python",
   "pygments_lexer": "ipython3",
   "version": "3.11.5"
  }
 },
 "nbformat": 4,
 "nbformat_minor": 5
}
